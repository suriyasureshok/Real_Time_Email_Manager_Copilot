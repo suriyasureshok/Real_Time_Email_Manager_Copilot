{
 "cells": [
  {
   "cell_type": "code",
   "execution_count": null,
   "id": "aecd8eb5",
   "metadata": {},
   "outputs": [],
   "source": [
    "import pandas\n",
    "import numpy\n",
    "from sklearn.model_selection import train_test_split\n",
    "from sklearn.naive_bayes import Multi"
   ]
  }
 ],
 "metadata": {
  "kernelspec": {
   "display_name": "genai-anomaly",
   "language": "python",
   "name": "python3"
  },
  "language_info": {
   "name": "python",
   "version": "3.10.10"
  }
 },
 "nbformat": 4,
 "nbformat_minor": 5
}
